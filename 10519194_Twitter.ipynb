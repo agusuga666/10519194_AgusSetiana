{
 "cells": [
  {
   "cell_type": "code",
   "execution_count": 1,
   "metadata": {},
   "outputs": [
    {
     "ename": "SyntaxError",
     "evalue": "invalid syntax (<ipython-input-1-25c4f899638a>, line 1)",
     "output_type": "error",
     "traceback": [
      "\u001b[1;36m  File \u001b[1;32m\"<ipython-input-1-25c4f899638a>\"\u001b[1;36m, line \u001b[1;32m1\u001b[0m\n\u001b[1;33m    Sastrawi.StopWordRemover.StopWordRemoverFactory import StopWordRemoverFactory\u001b[0m\n\u001b[1;37m                                                         ^\u001b[0m\n\u001b[1;31mSyntaxError\u001b[0m\u001b[1;31m:\u001b[0m invalid syntax\n"
     ]
    }
   ],
   "source": [
    "import csv\n",
    "import pandas as pd\n",
    "\n",
    "Sastrawi.StopWordRemover.StopWordRemoverFactory import StopWordRemoverFactory\n",
    "sklearn import model_selection\n",
    "sklearn.metrics import classification_report\n",
    "sklearn.metrics import confusion_matrix\n",
    "sklearn.metrics import accuracy_score\n",
    "sklearn.linear_model import LogisticRegression\n",
    "sklearn.tree import DecisionTreeClassifier\n",
    "sklearn.neighbors import KNeighborsClassifier\n",
    "sklearn.pipeline import Pipeline\n",
    "sklearn.feature_extraction.text import TfidfVectorizer, CountVectorizer\n",
    "\n",
    "Reading file from \\\"Tweet.csv\\\"\n",
    "def baca_file():\n",
    "csvF1 = \\\"Tweet.csv\\\n",
    "\n",
    "Open file Tweet.csv to manipulate\n",
    "with open(csvF1,\\\"r\\\") as rCsv:\n",
    "          readCsv = csv.reader(rCsv, delimiter = ';')\n",
    "          read = []\n",
    "          for row in readCsv:\n",
    "          if len(row) != 0:\n",
    "          read = read + [row]\n",
    "           rCsv.close()\n",
    "          return(read)\n",
    "\n",
    "def tampil_csv(f2):\n",
    "    df3 = pd.DataFrame(f2)\n",
    "    print(df3)\n",
    "\n",
    "def stemmingFile(fCsv):\n",
    "    rList = []\n",
    "    eList =[]\n",
    "\n",
    "facto  = StopWordRemoverFactory()\n",
    "stopwords = facto.create_stop_word_remover()\n",
    "\n",
    "for idx in fCsv:\n",
    "    rList.append(stopwords.remove(idx[0]))\n",
    "    if idx[1] == 'Keluhan':\n",
    "          eList.append('1')\n",
    "    elif idx[1]== 'Respon':\n",
    "        eList.append('2')\n",
    "    else:\\\n",
    "         eList.append('3')\n",
    "    return (rList,eList)\n",
    "          \n",
    "def classiLogRegressi(lRead, rRead):\n",
    "    validation_size = 0.20\\ \n",
    "          seed = 7\n",
    "          X_train, X_validation, Y_train, Y_validation = model_selection.train_test_split(lRead, rRead, test_size=validation_size, random_state=seed)\n",
    "          "
   ]
  },
  {
   "cell_type": "code",
   "execution_count": null,
   "metadata": {},
   "outputs": [],
   "source": []
  },
  {
   "cell_type": "code",
   "execution_count": null,
   "metadata": {},
   "outputs": [],
   "source": []
  }
 ],
 "metadata": {
  "kernelspec": {
   "display_name": "Python 3",
   "language": "python",
   "name": "python3"
  },
  "language_info": {
   "codemirror_mode": {
    "name": "ipython",
    "version": 3
   },
   "file_extension": ".py",
   "mimetype": "text/x-python",
   "name": "python",
   "nbconvert_exporter": "python",
   "pygments_lexer": "ipython3",
   "version": "3.7.3"
  }
 },
 "nbformat": 4,
 "nbformat_minor": 2
}
