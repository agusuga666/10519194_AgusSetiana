{
 "cells": [
  {
   "cell_type": "code",
   "execution_count": 1,
   "metadata": {},
   "outputs": [
    {
     "name": "stdout",
     "output_type": "stream",
     "text": [
      "11\n"
     ]
    }
   ],
   "source": [
    "x=5\n",
    "y=6\n",
    "z=x+y\n",
    "print(z)"
   ]
  },
  {
   "cell_type": "code",
   "execution_count": 2,
   "metadata": {},
   "outputs": [
    {
     "name": "stdout",
     "output_type": "stream",
     "text": [
      "14\n"
     ]
    }
   ],
   "source": [
    "x=8\n",
    "y=6\n",
    "z=x+y\n",
    "print(z)"
   ]
  },
  {
   "cell_type": "code",
   "execution_count": 3,
   "metadata": {},
   "outputs": [
    {
     "name": "stdout",
     "output_type": "stream",
     "text": [
      "13\n"
     ]
    }
   ],
   "source": [
    "x=5\n",
    "y=8\n",
    "z=x+y\n",
    "print(z)"
   ]
  },
  {
   "cell_type": "code",
   "execution_count": null,
   "metadata": {},
   "outputs": [],
   "source": [
    "x=int(input())\n",
    "y=int(input())\n",
    "z=x+y\n",
    "print(z)"
   ]
  },
  {
   "cell_type": "code",
   "execution_count": null,
   "metadata": {},
   "outputs": [],
   "source": [
    "x=str(input())\n",
    "y=str(input())\n",
    "z=x+y\n",
    "print(z)"
   ]
  },
  {
   "cell_type": "code",
   "execution_count": null,
   "metadata": {},
   "outputs": [],
   "source": [
    "x=str(input())\n",
    "y=str(input())\n",
    "z=str(input())\n",
    "a=x+y+z\n",
    "print(a)"
   ]
  },
  {
   "cell_type": "code",
   "execution_count": null,
   "metadata": {},
   "outputs": [],
   "source": [
    "x=str(input())\n",
    "y=str(input())\n",
    "z=int(input())\n",
    "a=x+y\n",
    "print(a,z)"
   ]
  },
  {
   "cell_type": "code",
   "execution_count": null,
   "metadata": {},
   "outputs": [],
   "source": [
    "x=str(input('nama :'))\n",
    "y=str(input('alamat: '))\n",
    "z=int(input('nilai: '))\n",
    "\n",
    "print('nama', x)\n",
    "print('alamat', y)\n",
    "print('nilai', z)\n",
    "\n",
    "print('nama',x, 'alamat',y, 'nilai',z)"
   ]
  },
  {
   "cell_type": "code",
   "execution_count": null,
   "metadata": {},
   "outputs": [],
   "source": [
    "for x in range (10):\n",
    "    print (x)"
   ]
  },
  {
   "cell_type": "code",
   "execution_count": null,
   "metadata": {},
   "outputs": [],
   "source": [
    "xlist = ['adi','budi','pandi']\n",
    "print(xlist[0])\n",
    "print(xlist[1])\n",
    "print(xlist[2])"
   ]
  },
  {
   "cell_type": "code",
   "execution_count": null,
   "metadata": {},
   "outputs": [],
   "source": [
    "nilai = int(input('Masukan nilai = '))\n",
    "if nilai >= 80:\n",
    "    print ('predikat A')\n",
    "elif nilai >= 70:\n",
    "    print ('predikat B')\n",
    "elif nilai >= 60:\n",
    "    print ('predikat C')\n",
    "elif nilai >= 50:\n",
    "    print ('predikat D')\n",
    "else:\n",
    "    print ('prdikat E')\n"
   ]
  },
  {
   "cell_type": "code",
   "execution_count": null,
   "metadata": {},
   "outputs": [],
   "source": [
    "xlist = ['adi','budi','pandi']\n",
    "for i in xlist:\n",
    "    print (i)"
   ]
  },
  {
   "cell_type": "code",
   "execution_count": null,
   "metadata": {},
   "outputs": [],
   "source": [
    "d = [ 1, 2, 3, 4]\n",
    "d"
   ]
  },
  {
   "cell_type": "code",
   "execution_count": null,
   "metadata": {},
   "outputs": [],
   "source": [
    "d = [ 1, 2, 3, 4]\n",
    "f = [ 5, 6, 2, 1]\n",
    "e = d + f\n",
    "e"
   ]
  },
  {
   "cell_type": "code",
   "execution_count": null,
   "metadata": {},
   "outputs": [],
   "source": [
    "d = [ (1, 2, 3, 4),\n",
    "      (5, 6, 2, 1)]\n",
    "d[1][1]"
   ]
  },
  {
   "cell_type": "code",
   "execution_count": null,
   "metadata": {},
   "outputs": [],
   "source": [
    "d = [ (1, 2, 3, 4),\n",
    "      (5, 6, 2, 1)]\n",
    "\n",
    "f = [ (1, 2, 3, 4),\n",
    "      (5, 6, 2, 1)]\n",
    "\n",
    "for i in range(4):\n",
    "    for j in range(4):"
   ]
  },
  {
   "cell_type": "code",
   "execution_count": null,
   "metadata": {},
   "outputs": [],
   "source": [
    "!pip list"
   ]
  },
  {
   "cell_type": "code",
   "execution_count": null,
   "metadata": {},
   "outputs": [],
   "source": [
    "import pandas as pd\n",
    "d = pd.DataFrame(d)\n",
    "d"
   ]
  },
  {
   "cell_type": "code",
   "execution_count": null,
   "metadata": {},
   "outputs": [],
   "source": [
    "for i in d[0]:\n",
    "    print(i)"
   ]
  },
  {
   "cell_type": "code",
   "execution_count": null,
   "metadata": {},
   "outputs": [],
   "source": [
    "d = {'A': [1,2], 'B': [3,4]}\n",
    "df = pd.DataFrame(d)\n",
    "df"
   ]
  },
  {
   "cell_type": "code",
   "execution_count": null,
   "metadata": {},
   "outputs": [],
   "source": [
    "d = {'A': [0, 1, 2, 3,], 'B': pd.Series([1, 2, 3, 4], index=[0, 1, 2, 3])}\n",
    "df = pd.DataFrame(data=d, index=[0, 1, 2, 3])\n",
    "df"
   ]
  },
  {
   "cell_type": "code",
   "execution_count": null,
   "metadata": {},
   "outputs": [],
   "source": [
    "df['B'].iloc[2]"
   ]
  },
  {
   "cell_type": "code",
   "execution_count": null,
   "metadata": {},
   "outputs": [],
   "source": [
    "d = {'A': [0, 1, 2, 3, 9, 8, 7], 'B': pd.Series([1, 2, 3, 4, 8, 7, 6], index=[0, 1, 2, 3, 7, 6, 5])}\n",
    "df = pd.DataFrame(data=d, index=[0, 1, 2, 3, 7, 6, 5])\n",
    "df"
   ]
  },
  {
   "cell_type": "code",
   "execution_count": null,
   "metadata": {},
   "outputs": [],
   "source": [
    "x = df['B'].iloc[0] + df['A'].iloc[0]\n",
    "y = df['B'].iloc[1] + df['A'].iloc[1]\n",
    "z = df['B'].iloc[2] + df['A'].iloc[2]\n",
    "p = df['B'].iloc[3] + df['A'].iloc[3]\n",
    "x,y,z,p"
   ]
  },
  {
   "cell_type": "code",
   "execution_count": null,
   "metadata": {},
   "outputs": [],
   "source": []
  }
 ],
 "metadata": {
  "kernelspec": {
   "display_name": "Python 3",
   "language": "python",
   "name": "python3"
  },
  "language_info": {
   "codemirror_mode": {
    "name": "ipython",
    "version": 3
   },
   "file_extension": ".py",
   "mimetype": "text/x-python",
   "name": "python",
   "nbconvert_exporter": "python",
   "pygments_lexer": "ipython3",
   "version": "3.7.3"
  }
 },
 "nbformat": 4,
 "nbformat_minor": 2
}
